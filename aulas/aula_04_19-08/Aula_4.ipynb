{
 "cells": [
  {
   "cell_type": "markdown",
   "id": "c28052b3",
   "metadata": {},
   "source": [
    "# Análise de Preços de Imóveis na Califórnia\n",
    "\n",
    "Este notebook demonstra como analisar um conjunto de dados de preços de imóveis da Califórnia para criar um modelo de previsão de preços. O objetivo é entender os fatores que influenciam os preços dos imóveis e preparar os dados para machine learning.\n",
    "\n",
    "## Carregamento dos Dados\n",
    "\n",
    "A função `load_housing_data()` realiza as seguintes operações:\n",
    "1. Procura pelo arquivo **datasets/housing.tgz** no diretório atual\n",
    "2. Se não encontrar:\n",
    "   - Cria o diretório **datasets**\n",
    "   - Baixa o arquivo do repositório GitHub **ageron/data**\n",
    "   - Extrai o conteúdo criando **datasets/housing/housing.csv**\n",
    "3. Carrega e retorna os dados em um DataFrame do Pandas\n",
    "\n",
    "> **Nota**: O arquivo CSV contém informações sobre distritos censitários da Califórnia, onde cada linha representa um distrito com suas características demográficas e imobiliárias."
   ]
  },
  {
   "cell_type": "code",
   "execution_count": null,
   "id": "d71dce14",
   "metadata": {},
   "outputs": [],
   "source": [
    "from pathlib import Path\n",
    "import pandas as pd\n",
    "import tarfile\n",
    "import urllib.request\n",
    "import matplotlib.pyplot as plt\n",
    "\n",
    "def load_housing_data():\n",
    "    csv_path = Path(\"datasets/housing/housing.csv\")\n",
    "    if csv_path.is_file():\n",
    "        return pd.read_csv(csv_path)\n",
    "        \n",
    "    tarball_path = Path(\"datasets/housing.tgz\")\n",
    "    if not tarball_path.is_file():\n",
    "        Path(\"datasets\").mkdir(parents=True, exist_ok=True)\n",
    "        url = \"https://github.com/ageron/data/raw/main/housing.tgz\"\n",
    "        urllib.request.urlretrieve(url, tarball_path)\n",
    "    \n",
    "    with tarfile.open(tarball_path) as housing_tarball:\n",
    "        housing_tarball.extractall(path=\"datasets\")\n",
    "    return pd.read_csv(csv_path)\n",
    "\n",
    "\n",
    "housing = load_housing_data()"
   ]
  },
  {
   "cell_type": "markdown",
   "id": "c82c347c",
   "metadata": {},
   "source": [
    "## Exploração Inicial dos Dados\n",
    "\n",
    "Vamos começar examinando a estrutura dos dados. Cada linha do DataFrame representa um distrito censitário da Califórnia, com os seguintes atributos:\n",
    "\n",
    "- **longitude, latitude**: Localização geográfica do distrito\n",
    "- **housing_median_age**: Idade mediana das casas no distrito\n",
    "- **total_rooms**: Número total de cômodos\n",
    "- **total_bedrooms**: Número total de quartos\n",
    "- **population**: População total do distrito\n",
    "- **households**: Número de domicílios\n",
    "- **median_income**: Renda mediana da região (em dezenas de milhares de dólares)\n",
    "- **median_house_value**: Valor mediano das casas (nosso atributo alvo)\n",
    "- **ocean_proximity**: Categoria indicando proximidade com o oceano\n",
    "\n",
    "> **Nota**: O atributo `ocean_proximity` não aparece nos histogramas por ser categórico (não-numérico). Analisaremos sua distribuição separadamente usando `value_counts()`.\n",
    "\n",
    "Primeiro, vamos observar as cinco primeiras linhas usando o método `head()` do DataFrame:"
   ]
  },
  {
   "cell_type": "code",
   "execution_count": null,
   "id": "18f46033",
   "metadata": {},
   "outputs": [],
   "source": [
    "housing.head()"
   ]
  },
  {
   "cell_type": "markdown",
   "id": "2cffe9d9",
   "metadata": {},
   "source": [
    "Cada linha representa um distrito. Existem **10 atributos** (nem todos são mostrados na captura de tela): `longitude`, `latitude`, `housing_median_age`, `total_rooms`, `total_bedrooms`, `population`, `households`, `median_income`, `median_house_value` e `ocean_proximity`.\n",
    "\n",
    "***\n",
    "\n",
    "O método `info()` é útil para obter uma descrição rápida dos dados, em particular o número total de linhas, o tipo de cada atributo e o número de valores não nulos:"
   ]
  },
  {
   "cell_type": "code",
   "execution_count": null,
   "id": "e68b0044",
   "metadata": {},
   "outputs": [],
   "source": [
    "housing.info()"
   ]
  },
  {
   "cell_type": "markdown",
   "id": "4419c510",
   "metadata": {},
   "source": [
    "## Análise da Estrutura dos Dados\n",
    "\n",
    "A saída do método `info()` nos revela informações importantes:\n",
    "\n",
    "1. **Tamanho do Dataset**: \n",
    "   - 20.640 instâncias (distritos)\n",
    "   - 10 atributos (características)\n",
    "\n",
    "2. **Tipos de Dados**:\n",
    "   - 9 atributos numéricos (tipo `float64`)\n",
    "   - 1 atributo categórico (`ocean_proximity`)\n",
    "\n",
    "3. **Valores Ausentes**:\n",
    "   - `total_bedrooms`: 207 valores ausentes (1% dos dados)\n",
    "   - Todos os outros atributos estão completos\n",
    "\n",
    "Esta análise inicial já nos indica que precisaremos:\n",
    "- Tratar os valores ausentes em `total_bedrooms`\n",
    "- Converter o atributo categórico para formato numérico\n",
    "- Considerar normalização dos dados devido às diferentes escalas"
   ]
  },
  {
   "cell_type": "code",
   "execution_count": null,
   "id": "360bfb1f",
   "metadata": {},
   "outputs": [],
   "source": [
    "housing[\"ocean_proximity\"].value_counts()"
   ]
  },
  {
   "cell_type": "code",
   "execution_count": null,
   "id": "767479c7",
   "metadata": {},
   "outputs": [],
   "source": [
    "housing.describe()"
   ]
  },
  {
   "cell_type": "markdown",
   "id": "b86a25d0",
   "metadata": {},
   "source": [
    "As linhas `count` (contagem), `mean` (média), `min` (mínimo) e `max` (máximo) são autoexplicativas. Note que os valores nulos são ignorados (assim, por exemplo, a contagem de `total_bedrooms` é 20.433, e não 20.640). A linha `std` mostra o desvio padrão (*standard deviation*), que mede quão dispersos os valores estão.\n",
    "\n",
    "As linhas `25%`, `50%` e `75%` mostram os percentis correspondentes: um percentil indica o valor abaixo do qual uma determinada porcentagem de observações em um grupo se encontra. Por exemplo, 25% dos distritos têm um `housing_median_age` inferior a 18, enquanto 50% estão abaixo de 29 e 75% estão abaixo de 37. Estes são frequentemente chamados de **25º percentil** (ou **primeiro quartil**), a **mediana** e o **75º percentil** (ou **terceiro quartil**).\n",
    "\n",
    "***\n",
    "\n",
    "Outra maneira rápida de ter uma noção do tipo de dados com que você está lidando é plotar um histograma para cada atributo numérico. Um histograma mostra o número de instâncias (no eixo vertical) que possuem uma determinada faixa de valores (no eixo horizontal). Você pode plotar um atributo de cada vez ou pode chamar o método `hist()` em todo o conjunto de dados (como mostrado no exemplo de código a seguir), e ele plotará um histograma para cada atributo numérico:"
   ]
  },
  {
   "cell_type": "code",
   "execution_count": null,
   "id": "e4345728",
   "metadata": {},
   "outputs": [],
   "source": [
    "housing.hist(bins=50, figsize=(12, 8))\n",
    "plt.show()"
   ]
  },
  {
   "cell_type": "markdown",
   "id": "e36973c4",
   "metadata": {},
   "source": [
    "## Análise das Distribuições\n",
    "\n",
    "A visualização dos histogramas revela características importantes dos nossos dados:\n",
    "\n",
    "### 1. Atributos Pré-processados\n",
    "- **Renda Mediana (`median_income`)**: \n",
    "  - Escalonada entre 0.5 e 15\n",
    "  - Um valor de 3.0 representa $30,000 (valores divididos por 10,000)\n",
    "  - Limitação artificial pode afetar a análise de áreas de alta renda\n",
    "\n",
    "- **Valor Mediano do Imóvel (`median_house_value`)**:\n",
    "  - Limitado em $500,000 (observe a linha vertical no histograma)\n",
    "  - Esta limitação é um **problema crítico** pois:\n",
    "    1. O modelo nunca aprenderá a prever valores acima deste limite\n",
    "    2. Pode distorcer a relação real entre as variáveis\n",
    "    3. Prejudica previsões em áreas de alto valor imobiliário\n",
    "\n",
    "### 2. Distribuições Assimétricas\n",
    "Vários atributos apresentam distribuição assimétrica à direita (cauda longa):\n",
    "- `median_income`\n",
    "- `total_rooms`\n",
    "- `total_bedrooms`\n",
    "- `population`\n",
    "- `households`\n",
    "\n",
    "Esta assimetria pode prejudicar o desempenho de alguns algoritmos de ML que assumem distribuição normal. Possíveis soluções:\n",
    "- Transformação logarítmica\n",
    "- Normalização dos dados\n",
    "- Uso de algoritmos robustos a distribuições não-normais\n",
    "\n",
    "### 3. Correlações Visuais\n",
    "Os histogramas também sugerem possíveis correlações:\n",
    "- `total_rooms` e `total_bedrooms` parecem ter distribuições similares\n",
    "- `population` e `households` também mostram padrões semelhantes"
   ]
  },
  {
   "cell_type": "markdown",
   "id": "93e8658a",
   "metadata": {},
   "source": [
    "## Próximos Passos Cruciais\n",
    "\n",
    "### ⚠️ A Regra de Ouro do Machine Learning\n",
    "\n",
    "Antes de qualquer pré-processamento ou análise adicional, devemos seguir a regra mais importante em machine learning:\n",
    "\n",
    "**Separar o Conjunto de Teste (`Test Set`) ANTES de qualquer análise detalhada**\n",
    "\n",
    "Por quê?\n",
    "1. Evita \"Data Leakage\": Vazamento de informações do teste para o treino\n",
    "2. Garante uma avaliação honesta do modelo\n",
    "3. Previne overfitting por conhecimento prévio dos dados de teste\n",
    "\n",
    "### Tarefas Pendentes\n",
    "\n",
    "1. **Preparação dos Dados**:\n",
    "   - Separar 20% dos dados para teste\n",
    "   - Tratar os 207 valores ausentes em `total_bedrooms`\n",
    "   - Aplicar transformações para normalizar distribuições\n",
    "   - Realizar feature scaling nos atributos numéricos\n",
    "\n",
    "2. **Tratamento de Limitações**:\n",
    "   - Investigar impacto dos valores limitados\n",
    "   - Considerar remoção ou marcação especial de casos limite\n",
    "   - Documentar estas limitações para usuários do modelo\n",
    "\n",
    "3. **Engenharia de Features**:\n",
    "   - Criar novas features (ex: quartos por pessoa, cômodos por casa)\n",
    "   - Codificar adequadamente `ocean_proximity`\n",
    "   - Investigar interações entre variáveis"
   ]
  }
 ],
 "metadata": {
  "kernelspec": {
   "display_name": ".venv (3.10.11)",
   "language": "python",
   "name": "python3"
  },
  "language_info": {
   "codemirror_mode": {
    "name": "ipython",
    "version": 3
   },
   "file_extension": ".py",
   "mimetype": "text/x-python",
   "name": "python",
   "nbconvert_exporter": "python",
   "pygments_lexer": "ipython3",
   "version": "3.10.11"
  }
 },
 "nbformat": 4,
 "nbformat_minor": 5
}
