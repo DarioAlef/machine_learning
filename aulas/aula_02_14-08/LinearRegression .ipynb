{
 "cells": [
  {
   "cell_type": "code",
   "execution_count": 1,
   "id": "9febb751",
   "metadata": {},
   "outputs": [
    {
     "data": {
      "image/png": "[encoded data removed]",
      "text/plain": [
       "<Figure size 640x480 with 1 Axes>"
      ]
     },
     "metadata": {},
     "output_type": "display_data"
    }
   ],
   "source": [
    "import matplotlib.pyplot as plt\n",
    "import numpy as np\n",
    "import pandas as pd\n",
    "from sklearn.linear_model import LinearRegression\n",
    "\n",
    "# Download and prepare the data\n",
    "\"\"\"data_root = \"https://github.com/ageron/data/raw/main/\"\n",
    "df = pd.read_csv(data_root + \"lifesat/lifesat.csv\")\"\"\"\n",
    "\n",
    "df = pd.read_csv(\"data.csv\")\n",
    "\n",
    "# Features\n",
    "X = df[[\"GDP per capita (USD)\"]].values\n",
    "y = df[[\"Life satisfaction\"]].values\n",
    "\n",
    "# Visualize the data\n",
    "df.plot(kind='scatter', grid=True,\n",
    "x=\"GDP per capita (USD)\", y=\"Life satisfaction\")\n",
    "plt.axis([23_500, 62_500, 4, 9])\n",
    "plt.show()\n"
   ]
  },
  {
   "cell_type": "code",
   "execution_count": 2,
   "id": "ba4e3286",
   "metadata": {},
   "outputs": [
    {
     "name": "stdout",
     "output_type": "stream",
     "text": [
      "Número de amostras: 27\n"
     ]
    }
   ],
   "source": [
    "# Definindo nossas variáveis x e y\n",
    "x = df['GDP per capita (USD)']\n",
    "y = df['Life satisfaction']\n",
    "n = len(df)\n",
    "\n",
    "print(f\"Número de amostras: {n}\")"
   ]
  },
  {
   "cell_type": "code",
   "execution_count": 3,
   "id": "2fa18a29",
   "metadata": {},
   "outputs": [
    {
     "name": "stdout",
     "output_type": "stream",
     "text": [
      "Passo 1: Médias\n",
      "Média do PIB (x̄): 41564.52\n",
      "Média da Satisfação (ȳ): 6.567\n"
     ]
    }
   ],
   "source": [
    "# PASSO 1: Calcular as médias (x̄ e ȳ)\n",
    "x_bar = x.mean()\n",
    "y_bar = y.mean()\n",
    "\n",
    "print(f\"Passo 1: Médias\")\n",
    "print(f\"Média do PIB (x̄): {x_bar:.2f}\")\n",
    "print(f\"Média da Satisfação (ȳ): {y_bar:.3f}\")"
   ]
  },
  {
   "cell_type": "markdown",
   "id": "9e0713bc",
   "metadata": {},
   "source": [
    "## Cálculo da função \n",
    "\n",
    "$$\\theta_1 = \\frac{\\sum (x_i - \\bar{x})(y_i - \\bar{y})}{\\sum (x_i - \\bar{x})^2}$$\n",
    "\n",
    "\n",
    "## Para o Intercepto\n",
    "\n",
    "$$\\theta_0 = \\bar{y} - \\theta_1 \\bar{x}$$"
   ]
  },
  {
   "cell_type": "code",
   "execution_count": 4,
   "id": "32c0f80d",
   "metadata": {},
   "outputs": [
    {
     "name": "stdout",
     "output_type": "stream",
     "text": [
      "Passo 2: Componentes do Cálculo\n",
      "Numerador [Σ(x-x̄)(y-ȳ)]: 163499.38\n",
      "Denominador [Σ(x-x̄)²]: 2411886717.88\n"
     ]
    }
   ],
   "source": [
    "# PASSO 2: Calcular os componentes da fórmula (Numerador e Denominador)\n",
    "\n",
    "# Σ(x - x̄)(y - ȳ)\n",
    "numerator = np.sum((x - x_bar) * (y - y_bar))\n",
    "# E aqui a fórmula Σ(x - x̄)²\n",
    "denominator = np.sum((x - x_bar)**2)\n",
    "\n",
    "print(f\"Passo 2: Componentes do Cálculo\")\n",
    "print(f\"Numerador [Σ(x-x̄)(y-ȳ)]: {numerator:.2f}\")\n",
    "print(f\"Denominador [Σ(x-x̄)²]: {denominator:.2f}\")"
   ]
  },
  {
   "cell_type": "code",
   "execution_count": 5,
   "id": "d8ccab13",
   "metadata": {},
   "outputs": [
    {
     "name": "stdout",
     "output_type": "stream",
     "text": [
      "Passo 3: Inclinação (θ₁)\n",
      "θ₁ = 163499.38 / 2411886717.88\n",
      "θ₁ ≈ 0.00006779\n"
     ]
    }
   ],
   "source": [
    "# PASSO 3: Calcular a inclinação (θ₁)\n",
    "theta_1 = numerator / denominator\n",
    "\n",
    "print(f\"Passo 3: Inclinação (θ₁)\")\n",
    "print(f\"θ₁ = {numerator:.2f} / {denominator:.2f}\")\n",
    "print(f\"θ₁ ≈ {theta_1:.8f}\")"
   ]
  },
  {
   "cell_type": "code",
   "execution_count": 6,
   "id": "8e31930f",
   "metadata": {},
   "outputs": [
    {
     "name": "stdout",
     "output_type": "stream",
     "text": [
      "Passo 4: Intercepto (θ₀)\n",
      "θ₀ = 6.567 - (0.00006779 * 41564.52)\n",
      "θ₀ ≈ 3.749\n"
     ]
    }
   ],
   "source": [
    "# PASSO 4: Calcular o intercepto (θ₀)\n",
    "theta_0 = y_bar - theta_1 * x_bar\n",
    "\n",
    "print(f\"Passo 4: Intercepto (θ₀)\")\n",
    "print(f\"θ₀ = {y_bar:.3f} - ({theta_1:.8f} * {x_bar:.2f})\")\n",
    "print(f\"θ₀ ≈ {theta_0:.3f}\")"
   ]
  },
  {
   "cell_type": "code",
   "execution_count": 7,
   "id": "1b60a09c",
   "metadata": {},
   "outputs": [
    {
     "name": "stdout",
     "output_type": "stream",
     "text": [
      "____________________________________________________________\n",
      "Resultado Final (Modelo de Regressão Linear):\n",
      "Satisfação = 3.75 + (0.00006779) * PIB\n",
      "____________________________________________________________\n"
     ]
    }
   ],
   "source": [
    "# PASSO 5: Apresentar o resultado final\n",
    "print(\"_\"*60)\n",
    "print(\"Resultado Final (Modelo de Regressão Linear):\")\n",
    "print(f\"Satisfação = {theta_0:.2f} + ({theta_1:.8f}) * PIB\")\n",
    "print(\"_\"*60)"
   ]
  },
  {
   "cell_type": "code",
   "execution_count": 8,
   "id": "6cddefe3",
   "metadata": {},
   "outputs": [
    {
     "name": "stdout",
     "output_type": "stream",
     "text": [
      "Verificação com a biblioteca Scikit-Learn:\n",
      "Intercepto (θ₀) do Scikit-Learn: 3.749\n",
      "Coeficiente (θ₁) do Scikit-Learn: 0.00006779\n",
      "Os valores bateram! Nosso cálculo manual está correto.\n"
     ]
    }
   ],
   "source": [
    "# --- Verificação Rápida com Scikit-Learn (o jeito profissional) ---\n",
    "from sklearn.linear_model import LinearRegression\n",
    "\n",
    "# Prepara os dados (Scikit-learn espera um array 2D para X)\n",
    "X = x.values.reshape(-1, 1)\n",
    "y_reshaped = y.values\n",
    "\n",
    "# Cria e treina o modelo\n",
    "model = LinearRegression()\n",
    "model.fit(X, y_reshaped)\n",
    "\n",
    "print(\"Verificação com a biblioteca Scikit-Learn:\")\n",
    "print(f\"Intercepto (θ₀) do Scikit-Learn: {model.intercept_:.3f}\")\n",
    "print(f\"Coeficiente (θ₁) do Scikit-Learn: {model.coef_[0]:.8f}\")\n",
    "print(\"Os valores bateram! Nosso cálculo manual está correto.\")"
   ]
  },
  {
   "cell_type": "code",
   "execution_count": 9,
   "id": "67059922",
   "metadata": {},
   "outputs": [
    {
     "name": "stdout",
     "output_type": "stream",
     "text": [
      "Verificação com a biblioteca Scikit-Learn___________________\n",
      "Intercepto (θ₀) do Scikit-Learn: 3.749\n",
      "Coeficiente (θ₁) do Scikit-Learn: 0.00006779\n",
      "____________________________________________________________\n"
     ]
    }
   ],
   "source": [
    "# Selecting a linear model and Training the model\n",
    "model = LinearRegression()\n",
    "model.fit(X, y)\n",
    "\n",
    "print(\"Verificação com a biblioteca Scikit-Learn___________________\")\n",
    "print(f\"Intercepto (θ₀) do Scikit-Learn: {model.intercept_:.3f}\")\n",
    "print(f\"Coeficiente (θ₁) do Scikit-Learn: {model.coef_[0]:.8f}\")\n",
    "print(\"_\"*60)"
   ]
  },
  {
   "cell_type": "code",
   "execution_count": 10,
   "id": "b155eab1",
   "metadata": {},
   "outputs": [
    {
     "data": {
      "image/png": "[encoded data removed]",
      "text/plain": [
       "<Figure size 640x480 with 1 Axes>"
      ]
     },
     "metadata": {},
     "output_type": "display_data"
    },
    {
     "name": "stdout",
     "output_type": "stream",
     "text": [
      "[6.30165767]\n"
     ]
    }
   ],
   "source": [
    "# Visualize the data first\n",
    "df.plot(kind='scatter', grid=True,\n",
    "x=\"GDP per capita (USD)\", y=\"Life satisfaction\")\n",
    "plt.axis([df['GDP per capita (USD)'].min() - 1000, df['GDP per capita (USD)'].max() + 1000, 4, 9])\n",
    "\n",
    "# Add the regression line based on actual data range\n",
    "X_line = np.linspace(df['GDP per capita (USD)'].min(), df['GDP per capita (USD)'].max(), 100).reshape(-1, 1)\n",
    "y_line = model.predict(X_line)\n",
    "plt.plot(X_line, y_line, 'r-', linewidth=2, label='Regressão Linear')\n",
    "\n",
    "plt.legend()\n",
    "plt.show()\n",
    "\n",
    "# Make a prediction for Cyprus\n",
    "X_new = [[37_655.2]] \n",
    "print(model.predict(X_new))"
   ]
  }
 ],
 "metadata": {
  "kernelspec": {
   "display_name": "Python 3",
   "language": "python",
   "name": "python3"
  },
  "language_info": {
   "codemirror_mode": {
    "name": "ipython",
    "version": 3
   },
   "file_extension": ".py",
   "mimetype": "text/x-python",
   "name": "python",
   "nbconvert_exporter": "python",
   "pygments_lexer": "ipython3",
   "version": "3.10.0"
  }
 },
 "nbformat": 4,
 "nbformat_minor": 5
}
