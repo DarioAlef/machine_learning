{
 "cells": [
  {
   "cell_type": "markdown",
   "id": "fc827d53",
   "metadata": {},
   "source": [
    "![NCIA](NCIA_Images\\start.png)"
   ]
  },
  {
   "cell_type": "markdown",
   "id": "06c285d2",
   "metadata": {},
   "source": [
    "# Introdução à Classificação\n",
    "\n",
    "Em **Aprendizado Supervisionado**, as duas tarefas mais comuns são:\n",
    "\n",
    "* **Regressão** → prever **valores contínuos** (ex.: preço de uma casa).\n",
    "* **Classificação** → prever **categorias** ou **classes** (ex.: reconhecer se uma imagem mostra um número 0, 1, 2...9).\n",
    "\n",
    "No **Capítulo 2**, trabalhamos com regressão, prevendo o valor de casas com algoritmos como:\n",
    "\n",
    "* **Regressão Linear**,\n",
    "* **Árvores de Decisão**,\n",
    "* **Random Forests**.\n",
    "\n",
    "Agora vamos iniciar a parte de **classificação**, e nosso estudo será guiado por um dos datasets mais famosos do aprendizado de máquina: **MNIST**.\n",
    "\n",
    "---\n",
    "## O que é o MNIST?\n",
    "\n",
    "* O **MNIST** é um conjunto de **70.000 imagens** de dígitos manuscritos (0 a 9).\n",
    "* Cada imagem é **pequena (28×28 pixels)** e contém um número escrito à mão.\n",
    "* Os dígitos foram coletados de estudantes do ensino médio e funcionários do **Censo dos EUA**.\n",
    "* Por ser tão usado, ficou conhecido como o **“Hello World” do Machine Learning**.\n",
    "\n",
    "  > Ou seja: quase todo algoritmo novo de classificação é testado primeiro no MNIST, e qualquer iniciante em ML acaba usando esse dataset cedo ou tarde.\n",
    "\n",
    "---\n",
    "\n",
    "## Como carregar o MNIST no Scikit-Learn?\n",
    "\n",
    "A biblioteca **Scikit-Learn** já traz funções auxiliares para baixar datasets populares diretamente.\n",
    "O MNIST pode ser carregado a partir do **OpenML.org**, com apenas uma linha de código:"
   ]
  },
  {
   "cell_type": "code",
   "execution_count": 1,
   "id": "5e469c1d",
   "metadata": {},
   "outputs": [],
   "source": [
    "#!pip install -q pandas scikit-learn matplotlib"
   ]
  },
  {
   "cell_type": "code",
   "execution_count": 2,
   "id": "45188a3f",
   "metadata": {},
   "outputs": [],
   "source": [
    "from sklearn.datasets import fetch_openml\n",
    "\n",
    "mnist = fetch_openml('mnist_784', as_frame=False)"
   ]
  },
  {
   "cell_type": "markdown",
   "id": "0faafd41",
   "metadata": {},
   "source": [
    "## Explicação do código\n",
    "\n",
    "* **`from sklearn.datasets import fetch_openml`**\n",
    "  Importa a função `fetch_openml`, usada para baixar datasets hospedados no site [OpenML.org](https://www.openml.org/).\n",
    "\n",
    "* **`fetch_openml('mnist_784', as_frame=False)`**\n",
    "\n",
    "  * O parâmetro `'mnist_784'` indica qual dataset queremos baixar (784 = número de pixels, já que 28×28 = 784).\n",
    "  * O parâmetro `as_frame=False` pede para os dados serem retornados como arrays NumPy (em vez de um DataFrame do pandas).\n",
    "\n",
    "* O resultado é armazenado na variável **`mnist`**, que contém:\n",
    "\n",
    "  * `mnist.data` → as imagens em formato de array (cada linha é uma imagem, com 784 colunas = pixels).\n",
    "  * `mnist.target` → os rótulos (qual dígito cada imagem representa).\n",
    "\n",
    "---"
   ]
  },
  {
   "cell_type": "markdown",
   "id": "44fe3c12",
   "metadata": {},
   "source": [
    "## Estruturas de dados no `sklearn.datasets`\n",
    "\n",
    "O Scikit-Learn oferece diferentes formas de acessar datasets, e isso influencia **como os dados chegam até nós**:\n",
    "\n",
    "- **Tupla `(X, y)`** → mais simples, onde `X` são os dados e `y` os rótulos.  \n",
    "- **Objeto `Bunch`** → parece um dicionário, mas também permite acessar atributos com ponto (ex.: `bunch.data`).  \n",
    "  - `DESCR` → descrição do dataset.  \n",
    "  - `data` → dados de entrada (normalmente array 2D).  \n",
    "  - `target` → rótulos (array 1D).  \n",
    "\n",
    "---\n",
    "\n",
    "## O caso do MNIST\n",
    "Ao carregar o MNIST, temos:\n"
   ]
  },
  {
   "cell_type": "code",
   "execution_count": 3,
   "id": "1e006a10",
   "metadata": {},
   "outputs": [],
   "source": [
    "X, y = mnist.data, mnist.target"
   ]
  },
  {
   "cell_type": "code",
   "execution_count": 4,
   "id": "98b0f9c2",
   "metadata": {},
   "outputs": [
    {
     "data": {
      "text/plain": [
       "array([[0, 0, 0, ..., 0, 0, 0],\n",
       "       [0, 0, 0, ..., 0, 0, 0],\n",
       "       [0, 0, 0, ..., 0, 0, 0],\n",
       "       ...,\n",
       "       [0, 0, 0, ..., 0, 0, 0],\n",
       "       [0, 0, 0, ..., 0, 0, 0],\n",
       "       [0, 0, 0, ..., 0, 0, 0]], shape=(70000, 784))"
      ]
     },
     "execution_count": 4,
     "metadata": {},
     "output_type": "execute_result"
    }
   ],
   "source": [
    "X"
   ]
  },
  {
   "cell_type": "code",
   "execution_count": 5,
   "id": "0c800c8b",
   "metadata": {},
   "outputs": [
    {
     "data": {
      "text/plain": [
       "(70000, 784)"
      ]
     },
     "execution_count": 5,
     "metadata": {},
     "output_type": "execute_result"
    }
   ],
   "source": [
    "X.shape"
   ]
  },
  {
   "cell_type": "code",
   "execution_count": 6,
   "id": "7d6b775d",
   "metadata": {},
   "outputs": [
    {
     "data": {
      "text/plain": [
       "array(['5', '0', '4', ..., '4', '5', '6'], shape=(70000,), dtype=object)"
      ]
     },
     "execution_count": 6,
     "metadata": {},
     "output_type": "execute_result"
    }
   ],
   "source": [
    "y"
   ]
  },
  {
   "cell_type": "code",
   "execution_count": 7,
   "id": "f6948547",
   "metadata": {},
   "outputs": [
    {
     "data": {
      "text/plain": [
       "(70000,)"
      ]
     },
     "execution_count": 7,
     "metadata": {},
     "output_type": "execute_result"
    }
   ],
   "source": [
    "y.shape"
   ]
  },
  {
   "cell_type": "markdown",
   "id": "13839047",
   "metadata": {},
   "source": [
    "A variável **`X`** contém os valores dos pixels de cada imagem. Cada pixel é representado por um número entre **0** (branco) e **255** (preto), indicando a intensidade. Quando inspecionamos `X`, vemos uma grande matriz de números, onde cada linha corresponde a uma imagem achatada em um vetor. Ao verificar `X.shape`, obtemos `(70000, 784)`: isso significa que existem **70.000 imagens** no dataset, e cada uma é representada por **784 atributos**, resultado de achatar a grade original de 28 × 28 pixels em uma linha.\n",
    "\n",
    "A variável **`y`** contém os rótulos, ou seja, o dígito que cada imagem representa. Inspecionando `y`, vemos valores como `['5', '0', '4', ..., '4', '5', '6']`. Esses valores são caracteres que indicam os números manuscritos de **0 a 9**. Ao verificar `y.shape`, obtemos `(70000,)`, mostrando que há exatamente **70.000 rótulos**, um para cada imagem em `X`.\n",
    "\n",
    "Em resumo, `X` guarda as **features** (pixels) e `y` guarda as **classes** (dígitos). Cada linha de `X` corresponde a uma entrada e cada elemento em `y` indica a saída esperada para essa entrada.\n"
   ]
  },
  {
   "cell_type": "markdown",
   "id": "83ec29c7",
   "metadata": {},
   "source": [
    "## Visualizando uma imagem do MNIST\n",
    "\n",
    "O dataset MNIST possui **70.000 imagens**, e cada uma é representada por **784 atributos**.  \n",
    "Isso acontece porque cada imagem tem **28 × 28 pixels**, e cada atributo é a intensidade de um pixel, variando de **0 (branco)** a **255 (preto)**.\n",
    "\n",
    "Para visualizar uma dessas imagens, precisamos:\n",
    "\n",
    "1. Pegar o vetor de 784 valores referente a uma amostra.  \n",
    "2. **Reformatar** esse vetor em uma matriz 28 × 28.  \n",
    "3. Exibir a matriz como imagem usando **Matplotlib**.\n",
    "\n"
   ]
  },
  {
   "cell_type": "code",
   "execution_count": 8,
   "id": "18a7b62b",
   "metadata": {},
   "outputs": [
    {
     "data": {
      "image/png": "[encoded data removed]",
      "text/plain": [
       "<Figure size 640x480 with 1 Axes>"
      ]
     },
     "metadata": {},
     "output_type": "display_data"
    }
   ],
   "source": [
    "import matplotlib.pyplot as plt\n",
    "\n",
    "def plot_digit(image_data):\n",
    "    image = image_data.reshape(28, 28)   # converte o vetor 1D em matriz 2D\n",
    "    plt.imshow(image, cmap=\"binary\")     # exibe em tons de cinza (0 = branco, 255 = preto)\n",
    "    plt.axis(\"off\")                      # remove os eixos da figura\n",
    "\n",
    "some_digit = X[0]  # seleciona a primeira imagem do dataset\n",
    "plot_digit(some_digit)\n",
    "plt.show()"
   ]
  },
  {
   "cell_type": "markdown",
   "id": "44c6b3cc",
   "metadata": {},
   "source": [
    "Quando visualizamos a primeira imagem (`X[0]`), ela parece um **5**.   Podemos confirmar isso verificando o rótulo correspondente em `y[0]`:\n"
   ]
  },
  {
   "cell_type": "code",
   "execution_count": 9,
   "id": "44a9bb06",
   "metadata": {},
   "outputs": [
    {
     "data": {
      "text/plain": [
       "'5'"
      ]
     },
     "execution_count": 9,
     "metadata": {},
     "output_type": "execute_result"
    }
   ],
   "source": [
    "y[0]"
   ]
  },
  {
   "cell_type": "markdown",
   "id": "24709598",
   "metadata": {},
   "source": [
    "## Separando treino e teste\n",
    "\n",
    "Antes de analisar o dataset em profundidade, é importante reservar um **conjunto de teste**.\n",
    "No caso do MNIST, isso já está pronto: o dataset retornado pelo `fetch_openml()` vem organizado de forma que:\n",
    "\n",
    "* **Primeiras 60.000 imagens** → **treinamento**.\n",
    "* **Últimas 10.000 imagens** → **teste**.\n",
    "\n",
    "Podemos separar explicitamente assim:\n"
   ]
  },
  {
   "cell_type": "code",
   "execution_count": 10,
   "id": "95660fc2",
   "metadata": {},
   "outputs": [],
   "source": [
    "X_train, X_test, y_train, y_test = X[:60000], X[60000:], y[:60000], y[60000:]"
   ]
  },
  {
   "cell_type": "markdown",
   "id": "8b57c541",
   "metadata": {},
   "source": [
    "* `X_train` e `y_train` → dados e rótulos de **treino**.\n",
    "* `X_test` e `y_test` → dados e rótulos de **teste**.\n",
    "\n",
    "---\n",
    "\n",
    "## Por que já vem embaralhado?\n",
    "\n",
    "O conjunto de **treino** já foi **embaralhado** previamente, o que é útil por dois motivos:\n",
    "\n",
    "1. **Validação cruzada balanceada**\n",
    "\n",
    "   * Como os dados foram embaralhados, cada *fold* terá exemplos variados de todos os dígitos.\n",
    "   * Evita o problema de um fold ficar com poucos ou nenhum exemplo de uma classe.\n",
    "\n",
    "2. **Robustez do algoritmo**\n",
    "\n",
    "   * Alguns algoritmos são sensíveis à ordem dos dados.\n",
    "   * Se o treino recebesse muitos exemplos iguais seguidos, o desempenho poderia cair.\n",
    "   * O embaralhamento evita esse viés.\n",
    "\n"
   ]
  },
  {
   "cell_type": "markdown",
   "id": "f8ef07d4",
   "metadata": {},
   "source": [
    "![mnist](mnist.png)"
   ]
  },
  {
   "cell_type": "markdown",
   "id": "5b408117",
   "metadata": {},
   "source": [
    "## Treinando um Classificador Binário\n",
    "\n",
    "Para começar simples, vamos transformar o problema em uma tarefa de **classificação binária**:  \n",
    "queremos que o modelo detecte apenas se uma imagem é o dígito **5** ou **não-5**.\n",
    "\n"
   ]
  },
  {
   "cell_type": "code",
   "execution_count": 11,
   "id": "e8a6f15f",
   "metadata": {},
   "outputs": [],
   "source": [
    "y_train_5 = (y_train == '5')  # True se for 5, False caso contrário\n",
    "y_test_5  = (y_test == '5')"
   ]
  },
  {
   "cell_type": "markdown",
   "id": "eab8d490",
   "metadata": {},
   "source": [
    "* `y_train_5` e `y_test_5` agora são vetores de valores booleanos (`True`/`False`).\n",
    "* Essa transformação converte o problema de **10 classes (0 a 9)** em apenas **2 classes**:\n",
    "\n",
    "  * **Classe positiva** → dígito é 5.\n",
    "  * **Classe negativa** → dígito não é 5."
   ]
  },
  {
   "cell_type": "markdown",
   "id": "cdf086a1",
   "metadata": {},
   "source": [
    "---\n",
    "Usaremos o **Stochastic Gradient Descent (SGD)**:"
   ]
  },
  {
   "cell_type": "markdown",
   "id": "ab21fb1f",
   "metadata": {},
   "source": [
    "* **`SGDClassifier`** → algoritmo baseado em **gradiente descendente estocástico**.\n",
    "\n",
    "  * Treina processando **uma instância por vez**, em vez de todo o dataset de uma vez.\n",
    "  * Escalável: funciona bem em **datasets grandes** como o MNIST.\n",
    "  * Adequado para **aprendizado online** (pode ser atualizado continuamente com novos dados).\n",
    "* O parâmetro `random_state=42` garante **reprodutibilidade** dos resultados.\n",
    "* `fit(X_train, y_train_5)` treina o modelo com as imagens de treino (`X_train`) e os novos rótulos binários (`y_train_5`)."
   ]
  },
  {
   "cell_type": "code",
   "execution_count": 12,
   "id": "5c8e4db6",
   "metadata": {},
   "outputs": [
    {
     "data": {
      "text/html": [
       "<style>#sk-container-id-1 {\n",
       "  /* Definition of color scheme common for light and dark mode */\n",
       "  --sklearn-color-text: #000;\n",
       "  --sklearn-color-text-muted: #666;\n",
       "  --sklearn-color-line: gray;\n",
       "  /* Definition of color scheme for unfitted estimators */\n",
       "  --sklearn-color-unfitted-level-0: #fff5e6;\n",
       "  --sklearn-color-unfitted-level-1: #f6e4d2;\n",
       "  --sklearn-color-unfitted-level-2: #ffe0b3;\n",
       "  --sklearn-color-unfitted-level-3: chocolate;\n",
       "  /* Definition of color scheme for fitted estimators */\n",
       "  --sklearn-color-fitted-level-0: #f0f8ff;\n",
       "  --sklearn-color-fitted-level-1: #d4ebff;\n",
       "  --sklearn-color-fitted-level-2: #b3dbfd;\n",
       "  --sklearn-color-fitted-level-3: cornflowerblue;\n",
       "\n",
       "  /* Specific color for light theme */\n",
       "  --sklearn-color-text-on-default-background: var(--sg-text-color, var(--theme-code-foreground, var(--jp-content-font-color1, black)));\n",
       "  --sklearn-color-background: var(--sg-background-color, var(--theme-background, var(--jp-layout-color0, white)));\n",
       "  --sklearn-color-border-box: var(--sg-text-color, var(--theme-code-foreground, var(--jp-content-font-color1, black)));\n",
       "  --sklearn-color-icon: #696969;\n",
       "\n",
       "  @media (prefers-color-scheme: dark) {\n",
       "    /* Redefinition of color scheme for dark theme */\n",
       "    --sklearn-color-text-on-default-background: var(--sg-text-color, var(--theme-code-foreground, var(--jp-content-font-color1, white)));\n",
       "    --sklearn-color-background: var(--sg-background-color, var(--theme-background, var(--jp-layout-color0, #111)));\n",
       "    --sklearn-color-border-box: var(--sg-text-color, var(--theme-code-foreground, var(--jp-content-font-color1, white)));\n",
       "    --sklearn-color-icon: #878787;\n",
       "  }\n",
       "}\n",
       "\n",
       "#sk-container-id-1 {\n",
       "  color: var(--sklearn-color-text);\n",
       "}\n",
       "\n",
       "#sk-container-id-1 pre {\n",
       "  padding: 0;\n",
       "}\n",
       "\n",
       "#sk-container-id-1 input.sk-hidden--visually {\n",
       "  border: 0;\n",
       "  clip: rect(1px 1px 1px 1px);\n",
       "  clip: rect(1px, 1px, 1px, 1px);\n",
       "  height: 1px;\n",
       "  margin: -1px;\n",
       "  overflow: hidden;\n",
       "  padding: 0;\n",
       "  position: absolute;\n",
       "  width: 1px;\n",
       "}\n",
       "\n",
       "#sk-container-id-1 div.sk-dashed-wrapped {\n",
       "  border: 1px dashed var(--sklearn-color-line);\n",
       "  margin: 0 0.4em 0.5em 0.4em;\n",
       "  box-sizing: border-box;\n",
       "  padding-bottom: 0.4em;\n",
       "  background-color: var(--sklearn-color-background);\n",
       "}\n",
       "\n",
       "#sk-container-id-1 div.sk-container {\n",
       "  /* jupyter's `normalize.less` sets `[hidden] { display: none; }`\n",
       "     but bootstrap.min.css set `[hidden] { display: none !important; }`\n",
       "     so we also need the `!important` here to be able to override the\n",
       "     default hidden behavior on the sphinx rendered scikit-learn.org.\n",
       "     See: https://github.com/scikit-learn/scikit-learn/issues/21755 */\n",
       "  display: inline-block !important;\n",
       "  position: relative;\n",
       "}\n",
       "\n",
       "#sk-container-id-1 div.sk-text-repr-fallback {\n",
       "  display: none;\n",
       "}\n",
       "\n",
       "div.sk-parallel-item,\n",
       "div.sk-serial,\n",
       "div.sk-item {\n",
       "  /* draw centered vertical line to link estimators */\n",
       "  background-image: linear-gradient(var(--sklearn-color-text-on-default-background), var(--sklearn-color-text-on-default-background));\n",
       "  background-size: 2px 100%;\n",
       "  background-repeat: no-repeat;\n",
       "  background-position: center center;\n",
       "}\n",
       "\n",
       "/* Parallel-specific style estimator block */\n",
       "\n",
       "#sk-container-id-1 div.sk-parallel-item::after {\n",
       "  content: \"\";\n",
       "  width: 100%;\n",
       "  border-bottom: 2px solid var(--sklearn-color-text-on-default-background);\n",
       "  flex-grow: 1;\n",
       "}\n",
       "\n",
       "#sk-container-id-1 div.sk-parallel {\n",
       "  display: flex;\n",
       "  align-items: stretch;\n",
       "  justify-content: center;\n",
       "  background-color: var(--sklearn-color-background);\n",
       "  position: relative;\n",
       "}\n",
       "\n",
       "#sk-container-id-1 div.sk-parallel-item {\n",
       "  display: flex;\n",
       "  flex-direction: column;\n",
       "}\n",
       "\n",
       "#sk-container-id-1 div.sk-parallel-item:first-child::after {\n",
       "  align-self: flex-end;\n",
       "  width: 50%;\n",
       "}\n",
       "\n",
       "#sk-container-id-1 div.sk-parallel-item:last-child::after {\n",
       "  align-self: flex-start;\n",
       "  width: 50%;\n",
       "}\n",
       "\n",
       "#sk-container-id-1 div.sk-parallel-item:only-child::after {\n",
       "  width: 0;\n",
       "}\n",
       "\n",
       "/* Serial-specific style estimator block */\n",
       "\n",
       "#sk-container-id-1 div.sk-serial {\n",
       "  display: flex;\n",
       "  flex-direction: column;\n",
       "  align-items: center;\n",
       "  background-color: var(--sklearn-color-background);\n",
       "  padding-right: 1em;\n",
       "  padding-left: 1em;\n",
       "}\n",
       "\n",
       "\n",
       "/* Toggleable style: style used for estimator/Pipeline/ColumnTransformer box that is\n",
       "clickable and can be expanded/collapsed.\n",
       "- Pipeline and ColumnTransformer use this feature and define the default style\n",
       "- Estimators will overwrite some part of the style using the `sk-estimator` class\n",
       "*/\n",
       "\n",
       "/* Pipeline and ColumnTransformer style (default) */\n",
       "\n",
       "#sk-container-id-1 div.sk-toggleable {\n",
       "  /* Default theme specific background. It is overwritten whether we have a\n",
       "  specific estimator or a Pipeline/ColumnTransformer */\n",
       "  background-color: var(--sklearn-color-background);\n",
       "}\n",
       "\n",
       "/* Toggleable label */\n",
       "#sk-container-id-1 label.sk-toggleable__label {\n",
       "  cursor: pointer;\n",
       "  display: flex;\n",
       "  width: 100%;\n",
       "  margin-bottom: 0;\n",
       "  padding: 0.5em;\n",
       "  box-sizing: border-box;\n",
       "  text-align: center;\n",
       "  align-items: start;\n",
       "  justify-content: space-between;\n",
       "  gap: 0.5em;\n",
       "}\n",
       "\n",
       "#sk-container-id-1 label.sk-toggleable__label .caption {\n",
       "  font-size: 0.6rem;\n",
       "  font-weight: lighter;\n",
       "  color: var(--sklearn-color-text-muted);\n",
       "}\n",
       "\n",
       "#sk-container-id-1 label.sk-toggleable__label-arrow:before {\n",
       "  /* Arrow on the left of the label */\n",
       "  content: \"▸\";\n",
       "  float: left;\n",
       "  margin-right: 0.25em;\n",
       "  color: var(--sklearn-color-icon);\n",
       "}\n",
       "\n",
       "#sk-container-id-1 label.sk-toggleable__label-arrow:hover:before {\n",
       "  color: var(--sklearn-color-text);\n",
       "}\n",
       "\n",
       "/* Toggleable content - dropdown */\n",
       "\n",
       "#sk-container-id-1 div.sk-toggleable__content {\n",
       "  display: none;\n",
       "  text-align: left;\n",
       "  /* unfitted */\n",
       "  background-color: var(--sklearn-color-unfitted-level-0);\n",
       "}\n",
       "\n",
       "#sk-container-id-1 div.sk-toggleable__content.fitted {\n",
       "  /* fitted */\n",
       "  background-color: var(--sklearn-color-fitted-level-0);\n",
       "}\n",
       "\n",
       "#sk-container-id-1 div.sk-toggleable__content pre {\n",
       "  margin: 0.2em;\n",
       "  border-radius: 0.25em;\n",
       "  color: var(--sklearn-color-text);\n",
       "  /* unfitted */\n",
       "  background-color: var(--sklearn-color-unfitted-level-0);\n",
       "}\n",
       "\n",
       "#sk-container-id-1 div.sk-toggleable__content.fitted pre {\n",
       "  /* unfitted */\n",
       "  background-color: var(--sklearn-color-fitted-level-0);\n",
       "}\n",
       "\n",
       "#sk-container-id-1 input.sk-toggleable__control:checked~div.sk-toggleable__content {\n",
       "  /* Expand drop-down */\n",
       "  display: block;\n",
       "  width: 100%;\n",
       "  overflow: visible;\n",
       "}\n",
       "\n",
       "#sk-container-id-1 input.sk-toggleable__control:checked~label.sk-toggleable__label-arrow:before {\n",
       "  content: \"▾\";\n",
       "}\n",
       "\n",
       "/* Pipeline/ColumnTransformer-specific style */\n",
       "\n",
       "#sk-container-id-1 div.sk-label input.sk-toggleable__control:checked~label.sk-toggleable__label {\n",
       "  color: var(--sklearn-color-text);\n",
       "  background-color: var(--sklearn-color-unfitted-level-2);\n",
       "}\n",
       "\n",
       "#sk-container-id-1 div.sk-label.fitted input.sk-toggleable__control:checked~label.sk-toggleable__label {\n",
       "  background-color: var(--sklearn-color-fitted-level-2);\n",
       "}\n",
       "\n",
       "/* Estimator-specific style */\n",
       "\n",
       "/* Colorize estimator box */\n",
       "#sk-container-id-1 div.sk-estimator input.sk-toggleable__control:checked~label.sk-toggleable__label {\n",
       "  /* unfitted */\n",
       "  background-color: var(--sklearn-color-unfitted-level-2);\n",
       "}\n",
       "\n",
       "#sk-container-id-1 div.sk-estimator.fitted input.sk-toggleable__control:checked~label.sk-toggleable__label {\n",
       "  /* fitted */\n",
       "  background-color: var(--sklearn-color-fitted-level-2);\n",
       "}\n",
       "\n",
       "#sk-container-id-1 div.sk-label label.sk-toggleable__label,\n",
       "#sk-container-id-1 div.sk-label label {\n",
       "  /* The background is the default theme color */\n",
       "  color: var(--sklearn-color-text-on-default-background);\n",
       "}\n",
       "\n",
       "/* On hover, darken the color of the background */\n",
       "#sk-container-id-1 div.sk-label:hover label.sk-toggleable__label {\n",
       "  color: var(--sklearn-color-text);\n",
       "  background-color: var(--sklearn-color-unfitted-level-2);\n",
       "}\n",
       "\n",
       "/* Label box, darken color on hover, fitted */\n",
       "#sk-container-id-1 div.sk-label.fitted:hover label.sk-toggleable__label.fitted {\n",
       "  color: var(--sklearn-color-text);\n",
       "  background-color: var(--sklearn-color-fitted-level-2);\n",
       "}\n",
       "\n",
       "/* Estimator label */\n",
       "\n",
       "#sk-container-id-1 div.sk-label label {\n",
       "  font-family: monospace;\n",
       "  font-weight: bold;\n",
       "  display: inline-block;\n",
       "  line-height: 1.2em;\n",
       "}\n",
       "\n",
       "#sk-container-id-1 div.sk-label-container {\n",
       "  text-align: center;\n",
       "}\n",
       "\n",
       "/* Estimator-specific */\n",
       "#sk-container-id-1 div.sk-estimator {\n",
       "  font-family: monospace;\n",
       "  border: 1px dotted var(--sklearn-color-border-box);\n",
       "  border-radius: 0.25em;\n",
       "  box-sizing: border-box;\n",
       "  margin-bottom: 0.5em;\n",
       "  /* unfitted */\n",
       "  background-color: var(--sklearn-color-unfitted-level-0);\n",
       "}\n",
       "\n",
       "#sk-container-id-1 div.sk-estimator.fitted {\n",
       "  /* fitted */\n",
       "  background-color: var(--sklearn-color-fitted-level-0);\n",
       "}\n",
       "\n",
       "/* on hover */\n",
       "#sk-container-id-1 div.sk-estimator:hover {\n",
       "  /* unfitted */\n",
       "  background-color: var(--sklearn-color-unfitted-level-2);\n",
       "}\n",
       "\n",
       "#sk-container-id-1 div.sk-estimator.fitted:hover {\n",
       "  /* fitted */\n",
       "  background-color: var(--sklearn-color-fitted-level-2);\n",
       "}\n",
       "\n",
       "/* Specification for estimator info (e.g. \"i\" and \"?\") */\n",
       "\n",
       "/* Common style for \"i\" and \"?\" */\n",
       "\n",
       ".sk-estimator-doc-link,\n",
       "a:link.sk-estimator-doc-link,\n",
       "a:visited.sk-estimator-doc-link {\n",
       "  float: right;\n",
       "  font-size: smaller;\n",
       "  line-height: 1em;\n",
       "  font-family: monospace;\n",
       "  background-color: var(--sklearn-color-background);\n",
       "  border-radius: 1em;\n",
       "  height: 1em;\n",
       "  width: 1em;\n",
       "  text-decoration: none !important;\n",
       "  margin-left: 0.5em;\n",
       "  text-align: center;\n",
       "  /* unfitted */\n",
       "  border: var(--sklearn-color-unfitted-level-1) 1pt solid;\n",
       "  color: var(--sklearn-color-unfitted-level-1);\n",
       "}\n",
       "\n",
       ".sk-estimator-doc-link.fitted,\n",
       "a:link.sk-estimator-doc-link.fitted,\n",
       "a:visited.sk-estimator-doc-link.fitted {\n",
       "  /* fitted */\n",
       "  border: var(--sklearn-color-fitted-level-1) 1pt solid;\n",
       "  color: var(--sklearn-color-fitted-level-1);\n",
       "}\n",
       "\n",
       "/* On hover */\n",
       "div.sk-estimator:hover .sk-estimator-doc-link:hover,\n",
       ".sk-estimator-doc-link:hover,\n",
       "div.sk-label-container:hover .sk-estimator-doc-link:hover,\n",
       ".sk-estimator-doc-link:hover {\n",
       "  /* unfitted */\n",
       "  background-color: var(--sklearn-color-unfitted-level-3);\n",
       "  color: var(--sklearn-color-background);\n",
       "  text-decoration: none;\n",
       "}\n",
       "\n",
       "div.sk-estimator.fitted:hover .sk-estimator-doc-link.fitted:hover,\n",
       ".sk-estimator-doc-link.fitted:hover,\n",
       "div.sk-label-container:hover .sk-estimator-doc-link.fitted:hover,\n",
       ".sk-estimator-doc-link.fitted:hover {\n",
       "  /* fitted */\n",
       "  background-color: var(--sklearn-color-fitted-level-3);\n",
       "  color: var(--sklearn-color-background);\n",
       "  text-decoration: none;\n",
       "}\n",
       "\n",
       "/* Span, style for the box shown on hovering the info icon */\n",
       ".sk-estimator-doc-link span {\n",
       "  display: none;\n",
       "  z-index: 9999;\n",
       "  position: relative;\n",
       "  font-weight: normal;\n",
       "  right: .2ex;\n",
       "  padding: .5ex;\n",
       "  margin: .5ex;\n",
       "  width: min-content;\n",
       "  min-width: 20ex;\n",
       "  max-width: 50ex;\n",
       "  color: var(--sklearn-color-text);\n",
       "  box-shadow: 2pt 2pt 4pt #999;\n",
       "  /* unfitted */\n",
       "  background: var(--sklearn-color-unfitted-level-0);\n",
       "  border: .5pt solid var(--sklearn-color-unfitted-level-3);\n",
       "}\n",
       "\n",
       ".sk-estimator-doc-link.fitted span {\n",
       "  /* fitted */\n",
       "  background: var(--sklearn-color-fitted-level-0);\n",
       "  border: var(--sklearn-color-fitted-level-3);\n",
       "}\n",
       "\n",
       ".sk-estimator-doc-link:hover span {\n",
       "  display: block;\n",
       "}\n",
       "\n",
       "/* \"?\"-specific style due to the `<a>` HTML tag */\n",
       "\n",
       "#sk-container-id-1 a.estimator_doc_link {\n",
       "  float: right;\n",
       "  font-size: 1rem;\n",
       "  line-height: 1em;\n",
       "  font-family: monospace;\n",
       "  background-color: var(--sklearn-color-background);\n",
       "  border-radius: 1rem;\n",
       "  height: 1rem;\n",
       "  width: 1rem;\n",
       "  text-decoration: none;\n",
       "  /* unfitted */\n",
       "  color: var(--sklearn-color-unfitted-level-1);\n",
       "  border: var(--sklearn-color-unfitted-level-1) 1pt solid;\n",
       "}\n",
       "\n",
       "#sk-container-id-1 a.estimator_doc_link.fitted {\n",
       "  /* fitted */\n",
       "  border: var(--sklearn-color-fitted-level-1) 1pt solid;\n",
       "  color: var(--sklearn-color-fitted-level-1);\n",
       "}\n",
       "\n",
       "/* On hover */\n",
       "#sk-container-id-1 a.estimator_doc_link:hover {\n",
       "  /* unfitted */\n",
       "  background-color: var(--sklearn-color-unfitted-level-3);\n",
       "  color: var(--sklearn-color-background);\n",
       "  text-decoration: none;\n",
       "}\n",
       "\n",
       "#sk-container-id-1 a.estimator_doc_link.fitted:hover {\n",
       "  /* fitted */\n",
       "  background-color: var(--sklearn-color-fitted-level-3);\n",
       "}\n",
       "\n",
       ".estimator-table summary {\n",
       "    padding: .5rem;\n",
       "    font-family: monospace;\n",
       "    cursor: pointer;\n",
       "}\n",
       "\n",
       ".estimator-table details[open] {\n",
       "    padding-left: 0.1rem;\n",
       "    padding-right: 0.1rem;\n",
       "    padding-bottom: 0.3rem;\n",
       "}\n",
       "\n",
       ".estimator-table .parameters-table {\n",
       "    margin-left: auto !important;\n",
       "    margin-right: auto !important;\n",
       "}\n",
       "\n",
       ".estimator-table .parameters-table tr:nth-child(odd) {\n",
       "    background-color: #fff;\n",
       "}\n",
       "\n",
       ".estimator-table .parameters-table tr:nth-child(even) {\n",
       "    background-color: #f6f6f6;\n",
       "}\n",
       "\n",
       ".estimator-table .parameters-table tr:hover {\n",
       "    background-color: #e0e0e0;\n",
       "}\n",
       "\n",
       ".estimator-table table td {\n",
       "    border: 1px solid rgba(106, 105, 104, 0.232);\n",
       "}\n",
       "\n",
       ".user-set td {\n",
       "    color:rgb(255, 94, 0);\n",
       "    text-align: left;\n",
       "}\n",
       "\n",
       ".user-set td.value pre {\n",
       "    color:rgb(255, 94, 0) !important;\n",
       "    background-color: transparent !important;\n",
       "}\n",
       "\n",
       ".default td {\n",
       "    color: black;\n",
       "    text-align: left;\n",
       "}\n",
       "\n",
       ".user-set td i,\n",
       ".default td i {\n",
       "    color: black;\n",
       "}\n",
       "\n",
       ".copy-paste-icon {\n",
       "    background-image: url(data:image/svg+xml;base64,PHN2ZyB4bWxucz0iaHR0cDovL3d3dy53My5vcmcvMjAwMC9zdmciIHZpZXdCb3g9IjAgMCA0NDggNTEyIj48IS0tIUZvbnQgQXdlc29tZSBGcmVlIDYuNy4yIGJ5IEBmb250YXdlc29tZSAtIGh0dHBzOi8vZm9udGF3ZXNvbWUuY29tIExpY2Vuc2UgLSBodHRwczovL2ZvbnRhd2Vzb21lLmNvbS9saWNlbnNlL2ZyZWUgQ29weXJpZ2h0IDIwMjUgRm9udGljb25zLCBJbmMuLS0+PHBhdGggZD0iTTIwOCAwTDMzMi4xIDBjMTIuNyAwIDI0LjkgNS4xIDMzLjkgMTQuMWw2Ny45IDY3LjljOSA5IDE0LjEgMjEuMiAxNC4xIDMzLjlMNDQ4IDMzNmMwIDI2LjUtMjEuNSA0OC00OCA0OGwtMTkyIDBjLTI2LjUgMC00OC0yMS41LTQ4LTQ4bDAtMjg4YzAtMjYuNSAyMS41LTQ4IDQ4LTQ4ek00OCAxMjhsODAgMCAwIDY0LTY0IDAgMCAyNTYgMTkyIDAgMC0zMiA2NCAwIDAgNDhjMCAyNi41LTIxLjUgNDgtNDggNDhMNDggNTEyYy0yNi41IDAtNDgtMjEuNS00OC00OEwwIDE3NmMwLTI2LjUgMjEuNS00OCA0OC00OHoiLz48L3N2Zz4=);\n",
       "    background-repeat: no-repeat;\n",
       "    background-size: 14px 14px;\n",
       "    background-position: 0;\n",
       "    display: inline-block;\n",
       "    width: 14px;\n",
       "    height: 14px;\n",
       "    cursor: pointer;\n",
       "}\n",
       "</style><body><div id=\"sk-container-id-1\" class=\"sk-top-container\"><div class=\"sk-text-repr-fallback\"><pre>SGDClassifier(random_state=42)</pre><b>In a Jupyter environment, please rerun this cell to show the HTML representation or trust the notebook. <br />On GitHub, the HTML representation is unable to render, please try loading this page with nbviewer.org.</b></div><div class=\"sk-container\" hidden><div class=\"sk-item\"><div class=\"sk-estimator fitted sk-toggleable\"><input class=\"sk-toggleable__control sk-hidden--visually\" id=\"sk-estimator-id-1\" type=\"checkbox\" checked><label for=\"sk-estimator-id-1\" class=\"sk-toggleable__label fitted sk-toggleable__label-arrow\"><div><div>SGDClassifier</div></div><div><a class=\"sk-estimator-doc-link fitted\" rel=\"noreferrer\" target=\"_blank\" href=\"https://scikit-learn.org/1.7/modules/generated/sklearn.linear_model.SGDClassifier.html\">?<span>Documentation for SGDClassifier</span></a><span class=\"sk-estimator-doc-link fitted\">i<span>Fitted</span></span></div></label><div class=\"sk-toggleable__content fitted\" data-param-prefix=\"\">\n",
       "        <div class=\"estimator-table\">\n",
       "            <details>\n",
       "                <summary>Parameters</summary>\n",
       "                <table class=\"parameters-table\">\n",
       "                  <tbody>\n",
       "                    \n",
       "        <tr class=\"default\">\n",
       "            <td><i class=\"copy-paste-icon\"\n",
       "                 onclick=\"copyToClipboard('loss',\n",
       "                          this.parentElement.nextElementSibling)\"\n",
       "            ></i></td>\n",
       "            <td class=\"param\">loss&nbsp;</td>\n",
       "            <td class=\"value\">&#x27;hinge&#x27;</td>\n",
       "        </tr>\n",
       "    \n",
       "\n",
       "        <tr class=\"default\">\n",
       "            <td><i class=\"copy-paste-icon\"\n",
       "                 onclick=\"copyToClipboard('penalty',\n",
       "                          this.parentElement.nextElementSibling)\"\n",
       "            ></i></td>\n",
       "            <td class=\"param\">penalty&nbsp;</td>\n",
       "            <td class=\"value\">&#x27;l2&#x27;</td>\n",
       "        </tr>\n",
       "    \n",
       "\n",
       "        <tr class=\"default\">\n",
       "            <td><i class=\"copy-paste-icon\"\n",
       "                 onclick=\"copyToClipboard('alpha',\n",
       "                          this.parentElement.nextElementSibling)\"\n",
       "            ></i></td>\n",
       "            <td class=\"param\">alpha&nbsp;</td>\n",
       "            <td class=\"value\">0.0001</td>\n",
       "        </tr>\n",
       "    \n",
       "\n",
       "        <tr class=\"default\">\n",
       "            <td><i class=\"copy-paste-icon\"\n",
       "                 onclick=\"copyToClipboard('l1_ratio',\n",
       "                          this.parentElement.nextElementSibling)\"\n",
       "            ></i></td>\n",
       "            <td class=\"param\">l1_ratio&nbsp;</td>\n",
       "            <td class=\"value\">0.15</td>\n",
       "        </tr>\n",
       "    \n",
       "\n",
       "        <tr class=\"default\">\n",
       "            <td><i class=\"copy-paste-icon\"\n",
       "                 onclick=\"copyToClipboard('fit_intercept',\n",
       "                          this.parentElement.nextElementSibling)\"\n",
       "            ></i></td>\n",
       "            <td class=\"param\">fit_intercept&nbsp;</td>\n",
       "            <td class=\"value\">True</td>\n",
       "        </tr>\n",
       "    \n",
       "\n",
       "        <tr class=\"default\">\n",
       "            <td><i class=\"copy-paste-icon\"\n",
       "                 onclick=\"copyToClipboard('max_iter',\n",
       "                          this.parentElement.nextElementSibling)\"\n",
       "            ></i></td>\n",
       "            <td class=\"param\">max_iter&nbsp;</td>\n",
       "            <td class=\"value\">1000</td>\n",
       "        </tr>\n",
       "    \n",
       "\n",
       "        <tr class=\"default\">\n",
       "            <td><i class=\"copy-paste-icon\"\n",
       "                 onclick=\"copyToClipboard('tol',\n",
       "                          this.parentElement.nextElementSibling)\"\n",
       "            ></i></td>\n",
       "            <td class=\"param\">tol&nbsp;</td>\n",
       "            <td class=\"value\">0.001</td>\n",
       "        </tr>\n",
       "    \n",
       "\n",
       "        <tr class=\"default\">\n",
       "            <td><i class=\"copy-paste-icon\"\n",
       "                 onclick=\"copyToClipboard('shuffle',\n",
       "                          this.parentElement.nextElementSibling)\"\n",
       "            ></i></td>\n",
       "            <td class=\"param\">shuffle&nbsp;</td>\n",
       "            <td class=\"value\">True</td>\n",
       "        </tr>\n",
       "    \n",
       "\n",
       "        <tr class=\"default\">\n",
       "            <td><i class=\"copy-paste-icon\"\n",
       "                 onclick=\"copyToClipboard('verbose',\n",
       "                          this.parentElement.nextElementSibling)\"\n",
       "            ></i></td>\n",
       "            <td class=\"param\">verbose&nbsp;</td>\n",
       "            <td class=\"value\">0</td>\n",
       "        </tr>\n",
       "    \n",
       "\n",
       "        <tr class=\"default\">\n",
       "            <td><i class=\"copy-paste-icon\"\n",
       "                 onclick=\"copyToClipboard('epsilon',\n",
       "                          this.parentElement.nextElementSibling)\"\n",
       "            ></i></td>\n",
       "            <td class=\"param\">epsilon&nbsp;</td>\n",
       "            <td class=\"value\">0.1</td>\n",
       "        </tr>\n",
       "    \n",
       "\n",
       "        <tr class=\"default\">\n",
       "            <td><i class=\"copy-paste-icon\"\n",
       "                 onclick=\"copyToClipboard('n_jobs',\n",
       "                          this.parentElement.nextElementSibling)\"\n",
       "            ></i></td>\n",
       "            <td class=\"param\">n_jobs&nbsp;</td>\n",
       "            <td class=\"value\">None</td>\n",
       "        </tr>\n",
       "    \n",
       "\n",
       "        <tr class=\"user-set\">\n",
       "            <td><i class=\"copy-paste-icon\"\n",
       "                 onclick=\"copyToClipboard('random_state',\n",
       "                          this.parentElement.nextElementSibling)\"\n",
       "            ></i></td>\n",
       "            <td class=\"param\">random_state&nbsp;</td>\n",
       "            <td class=\"value\">42</td>\n",
       "        </tr>\n",
       "    \n",
       "\n",
       "        <tr class=\"default\">\n",
       "            <td><i class=\"copy-paste-icon\"\n",
       "                 onclick=\"copyToClipboard('learning_rate',\n",
       "                          this.parentElement.nextElementSibling)\"\n",
       "            ></i></td>\n",
       "            <td class=\"param\">learning_rate&nbsp;</td>\n",
       "            <td class=\"value\">&#x27;optimal&#x27;</td>\n",
       "        </tr>\n",
       "    \n",
       "\n",
       "        <tr class=\"default\">\n",
       "            <td><i class=\"copy-paste-icon\"\n",
       "                 onclick=\"copyToClipboard('eta0',\n",
       "                          this.parentElement.nextElementSibling)\"\n",
       "            ></i></td>\n",
       "            <td class=\"param\">eta0&nbsp;</td>\n",
       "            <td class=\"value\">0.0</td>\n",
       "        </tr>\n",
       "    \n",
       "\n",
       "        <tr class=\"default\">\n",
       "            <td><i class=\"copy-paste-icon\"\n",
       "                 onclick=\"copyToClipboard('power_t',\n",
       "                          this.parentElement.nextElementSibling)\"\n",
       "            ></i></td>\n",
       "            <td class=\"param\">power_t&nbsp;</td>\n",
       "            <td class=\"value\">0.5</td>\n",
       "        </tr>\n",
       "    \n",
       "\n",
       "        <tr class=\"default\">\n",
       "            <td><i class=\"copy-paste-icon\"\n",
       "                 onclick=\"copyToClipboard('early_stopping',\n",
       "                          this.parentElement.nextElementSibling)\"\n",
       "            ></i></td>\n",
       "            <td class=\"param\">early_stopping&nbsp;</td>\n",
       "            <td class=\"value\">False</td>\n",
       "        </tr>\n",
       "    \n",
       "\n",
       "        <tr class=\"default\">\n",
       "            <td><i class=\"copy-paste-icon\"\n",
       "                 onclick=\"copyToClipboard('validation_fraction',\n",
       "                          this.parentElement.nextElementSibling)\"\n",
       "            ></i></td>\n",
       "            <td class=\"param\">validation_fraction&nbsp;</td>\n",
       "            <td class=\"value\">0.1</td>\n",
       "        </tr>\n",
       "    \n",
       "\n",
       "        <tr class=\"default\">\n",
       "            <td><i class=\"copy-paste-icon\"\n",
       "                 onclick=\"copyToClipboard('n_iter_no_change',\n",
       "                          this.parentElement.nextElementSibling)\"\n",
       "            ></i></td>\n",
       "            <td class=\"param\">n_iter_no_change&nbsp;</td>\n",
       "            <td class=\"value\">5</td>\n",
       "        </tr>\n",
       "    \n",
       "\n",
       "        <tr class=\"default\">\n",
       "            <td><i class=\"copy-paste-icon\"\n",
       "                 onclick=\"copyToClipboard('class_weight',\n",
       "                          this.parentElement.nextElementSibling)\"\n",
       "            ></i></td>\n",
       "            <td class=\"param\">class_weight&nbsp;</td>\n",
       "            <td class=\"value\">None</td>\n",
       "        </tr>\n",
       "    \n",
       "\n",
       "        <tr class=\"default\">\n",
       "            <td><i class=\"copy-paste-icon\"\n",
       "                 onclick=\"copyToClipboard('warm_start',\n",
       "                          this.parentElement.nextElementSibling)\"\n",
       "            ></i></td>\n",
       "            <td class=\"param\">warm_start&nbsp;</td>\n",
       "            <td class=\"value\">False</td>\n",
       "        </tr>\n",
       "    \n",
       "\n",
       "        <tr class=\"default\">\n",
       "            <td><i class=\"copy-paste-icon\"\n",
       "                 onclick=\"copyToClipboard('average',\n",
       "                          this.parentElement.nextElementSibling)\"\n",
       "            ></i></td>\n",
       "            <td class=\"param\">average&nbsp;</td>\n",
       "            <td class=\"value\">False</td>\n",
       "        </tr>\n",
       "    \n",
       "                  </tbody>\n",
       "                </table>\n",
       "            </details>\n",
       "        </div>\n",
       "    </div></div></div></div></div><script>function copyToClipboard(text, element) {\n",
       "    // Get the parameter prefix from the closest toggleable content\n",
       "    const toggleableContent = element.closest('.sk-toggleable__content');\n",
       "    const paramPrefix = toggleableContent ? toggleableContent.dataset.paramPrefix : '';\n",
       "    const fullParamName = paramPrefix ? `${paramPrefix}${text}` : text;\n",
       "\n",
       "    const originalStyle = element.style;\n",
       "    const computedStyle = window.getComputedStyle(element);\n",
       "    const originalWidth = computedStyle.width;\n",
       "    const originalHTML = element.innerHTML.replace('Copied!', '');\n",
       "\n",
       "    navigator.clipboard.writeText(fullParamName)\n",
       "        .then(() => {\n",
       "            element.style.width = originalWidth;\n",
       "            element.style.color = 'green';\n",
       "            element.innerHTML = \"Copied!\";\n",
       "\n",
       "            setTimeout(() => {\n",
       "                element.innerHTML = originalHTML;\n",
       "                element.style = originalStyle;\n",
       "            }, 2000);\n",
       "        })\n",
       "        .catch(err => {\n",
       "            console.error('Failed to copy:', err);\n",
       "            element.style.color = 'red';\n",
       "            element.innerHTML = \"Failed!\";\n",
       "            setTimeout(() => {\n",
       "                element.innerHTML = originalHTML;\n",
       "                element.style = originalStyle;\n",
       "            }, 2000);\n",
       "        });\n",
       "    return false;\n",
       "}\n",
       "\n",
       "document.querySelectorAll('.fa-regular.fa-copy').forEach(function(element) {\n",
       "    const toggleableContent = element.closest('.sk-toggleable__content');\n",
       "    const paramPrefix = toggleableContent ? toggleableContent.dataset.paramPrefix : '';\n",
       "    const paramName = element.parentElement.nextElementSibling.textContent.trim();\n",
       "    const fullParamName = paramPrefix ? `${paramPrefix}${paramName}` : paramName;\n",
       "\n",
       "    element.setAttribute('title', fullParamName);\n",
       "});\n",
       "</script></body>"
      ],
      "text/plain": [
       "SGDClassifier(random_state=42)"
      ]
     },
     "execution_count": 12,
     "metadata": {},
     "output_type": "execute_result"
    }
   ],
   "source": [
    "from sklearn.linear_model import SGDClassifier\n",
    "\n",
    "sgd_clf = SGDClassifier(random_state=42)\n",
    "sgd_clf.fit(X_train, y_train_5)"
   ]
  },
  {
   "cell_type": "markdown",
   "id": "7de41b0a",
   "metadata": {},
   "source": [
    "### O que são hiperparâmetros?\n",
    "\n",
    "* **Parâmetros internos do modelo** que **você escolhe antes do treino** (não são aprendidos automaticamente).\n",
    "* Controlam **como** o algoritmo treina e busca a solução.\n",
    "* Diferente dos **parâmetros do modelo** (como pesos `w` em uma regressão), que são aprendidos a partir dos dados.\n",
    "\n",
    "---\n",
    "\n",
    "### Hiperparâmetros listados\n",
    "\n",
    "* **`loss='hinge'`** → define a função de perda. Por padrão, é o hinge loss (usado em classificadores do tipo *linear SVM*).\n",
    "* **`penalty='l2'`** → regularização para evitar overfitting; `l2` é a forma mais comum (penaliza grandes pesos).\n",
    "* **`alpha=0.0001`** → intensidade da regularização (quanto maior, mais forte é a penalização).\n",
    "* **`max_iter=1000`** → número máximo de iterações no treino.\n",
    "* **`tol=0.001`** → tolerância para parar o treino (critério de convergência).\n",
    "* **`shuffle=True`** → embaralha os dados a cada época, o que melhora a generalização.\n",
    "* **`learning_rate='optimal'`** → estratégia para ajustar a taxa de aprendizado ao longo do treino.\n",
    "* **`random_state=42`** → fixa a aleatoriedade, garantindo resultados reprodutíveis.\n",
    "* **`early_stopping=False`** → indica se deve parar mais cedo caso não haja melhora em validação.\n",
    "\n",
    "> Os demais parâmetros (`l1_ratio`, `eta0`, `power_t`, etc.) refinam detalhes do **gradiente descendente estocástico** e só costumam ser ajustados em situações mais avançadas."
   ]
  },
  {
   "cell_type": "markdown",
   "id": "11e7e8bf",
   "metadata": {},
   "source": [
    "### Fazendo uma previsão"
   ]
  },
  {
   "cell_type": "code",
   "execution_count": 13,
   "id": "1221a10c",
   "metadata": {},
   "outputs": [
    {
     "data": {
      "text/plain": [
       "array([ True])"
      ]
     },
     "execution_count": 13,
     "metadata": {},
     "output_type": "execute_result"
    }
   ],
   "source": [
    "sgd_clf.predict([some_digit])"
   ]
  },
  {
   "cell_type": "markdown",
   "id": "54d722b8",
   "metadata": {},
   "source": [
    "\n",
    "* O classificador previu que a imagem (`some_digit`) é de fato um **5** (`True`).\n",
    "* Neste exemplo, ele acertou a previsão.\n"
   ]
  },
  {
   "cell_type": "markdown",
   "id": "e0d9ab27",
   "metadata": {},
   "source": [
    "## Avaliando o desempenho de um classificador\n",
    "\n",
    "Avaliar um **classificador** é mais desafiador do que avaliar um **regressor**, pois existem muitas métricas diferentes e vários pontos de atenção.  \n",
    "Vamos começar com a **acurácia** e a técnica de **validação cruzada**.\n",
    "\n",
    "Podemos usar a função `cross_val_score()` para avaliar nosso classificador com **validação cruzada k-fold**.  \n",
    "No exemplo a seguir, usamos **3 folds**:"
   ]
  },
  {
   "cell_type": "code",
   "execution_count": 14,
   "id": "bc83f498",
   "metadata": {},
   "outputs": [
    {
     "data": {
      "text/plain": [
       "array([0.95035, 0.96035, 0.9604 ])"
      ]
     },
     "execution_count": 14,
     "metadata": {},
     "output_type": "execute_result"
    }
   ],
   "source": [
    "from sklearn.model_selection import cross_val_score\n",
    "\n",
    "cross_val_score(sgd_clf, X_train, y_train_5, cv=3, scoring=\"accuracy\")"
   ]
  },
  {
   "cell_type": "markdown",
   "id": "bfa04716",
   "metadata": {},
   "source": [
    "* Isso significa que o classificador obteve **cerca de 95% de acurácia** em cada fold.\n",
    "* Acurácia = **proporção de previsões corretas**.\n",
    "* Parece impressionante, mas precisamos tomar cuidado com interpretações precipitadas."
   ]
  },
  {
   "cell_type": "markdown",
   "id": "cbf8d9d8",
   "metadata": {},
   "source": [
    "### O problema da classe desbalanceada\n",
    "\n",
    "No dataset MNIST, apenas cerca de **10% das imagens são dígitos 5**.\n",
    "Isso cria um **desbalanceamento de classes**: a maioria das instâncias é \"não-5\".\n",
    "\n",
    "Para mostrar por que isso é um problema, vamos comparar com um classificador ingênuo:"
   ]
  },
  {
   "cell_type": "code",
   "execution_count": 15,
   "id": "e0c37ef3",
   "metadata": {},
   "outputs": [
    {
     "name": "stdout",
     "output_type": "stream",
     "text": [
      "False\n"
     ]
    }
   ],
   "source": [
    "from sklearn.dummy import DummyClassifier\n",
    "\n",
    "dummy_clf = DummyClassifier()\n",
    "dummy_clf.fit(X_train, y_train_5)\n",
    "print(any(dummy_clf.predict(X_train)))  # sempre False, nunca detecta um 5"
   ]
  },
  {
   "cell_type": "markdown",
   "id": "66e2d214",
   "metadata": {},
   "source": [
    "Esse classificador **sempre prevê \"não-5\"**, ou seja, ignora completamente a classe positiva.\n",
    "\n",
    "### Avaliando o Dummy Classifier"
   ]
  },
  {
   "cell_type": "code",
   "execution_count": 16,
   "id": "e6c39f31",
   "metadata": {},
   "outputs": [
    {
     "data": {
      "text/plain": [
       "array([0.90965, 0.90965, 0.90965])"
      ]
     },
     "execution_count": 16,
     "metadata": {},
     "output_type": "execute_result"
    }
   ],
   "source": [
    "cross_val_score(dummy_clf, X_train, y_train_5, cv=3, scoring=\"accuracy\")"
   ]
  },
  {
   "cell_type": "markdown",
   "id": "7fda21a0",
   "metadata": {},
   "source": [
    "* Acurácia acima de **90%**!\n",
    "* Mas isso acontece **sem nunca acertar um único 5**.\n",
    "* Ou seja, em datasets desbalanceados, a acurácia pode ser **enganosa**."
   ]
  },
  {
   "cell_type": "markdown",
   "id": "e30c74c0",
   "metadata": {},
   "source": [
    "## Matrizes de Confusão\n",
    "\n",
    "A **matriz de confusão** é uma ferramenta fundamental para avaliar classificadores.  \n",
    "Ela mostra, para cada classe **real** (linhas), como o modelo a classificou nas classes **previstas** (colunas).\n",
    "\n",
    "### Preparando as previsões para a matriz\n",
    "\n",
    "Para calcular a matriz de confusão, precisamos comparar **previsões do modelo** com os **rótulos verdadeiros**.  \n",
    "Porém, não devemos usar ainda o conjunto de teste (ele deve ficar reservado para a etapa final).  \n",
    "\n",
    "Em vez disso, usamos a função `cross_val_predict`:\n"
   ]
  },
  {
   "cell_type": "code",
   "execution_count": 17,
   "id": "33c3a7ef",
   "metadata": {},
   "outputs": [],
   "source": [
    "from sklearn.model_selection import cross_val_predict\n",
    "\n",
    "y_train_pred = cross_val_predict(sgd_clf, X_train, y_train_5, cv=3)"
   ]
  },
  {
   "cell_type": "markdown",
   "id": "fa3e12e2",
   "metadata": {},
   "source": [
    "Agora que temos as previsões geradas com `cross_val_predict`, podemos calcular a matriz de confusão com a função `confusion_matrix`:"
   ]
  },
  {
   "cell_type": "code",
   "execution_count": 18,
   "id": "8a5b4bff",
   "metadata": {},
   "outputs": [
    {
     "data": {
      "text/plain": [
       "array([[53892,   687],\n",
       "       [ 1891,  3530]])"
      ]
     },
     "execution_count": 18,
     "metadata": {},
     "output_type": "execute_result"
    }
   ],
   "source": [
    "from sklearn.metrics import confusion_matrix\n",
    "\n",
    "cm = confusion_matrix(y_train_5, y_train_pred)\n",
    "cm"
   ]
  },
  {
   "cell_type": "markdown",
   "id": "29da4083",
   "metadata": {},
   "source": [
    "### Como interpretar a matriz\n",
    "\n",
    "* **Cada linha** representa a **classe real**.\n",
    "* **Cada coluna** representa a **classe prevista**.\n",
    "\n",
    "**Primeira linha (classe = não-5):**\n",
    "\n",
    "* **53.892** → corretamente previstos como não-5 (**true negatives**).\n",
    "* **687** → incorretamente previstos como 5 (**false positives**, erro tipo I).\n",
    "\n",
    "**Segunda linha (classe = 5):**\n",
    "\n",
    "* **1.891** → incorretamente previstos como não-5 (**false negatives**, erro tipo II).\n",
    "* **3.530** → corretamente previstos como 5 (**true positives**).\n",
    "\n",
    "Um classificador perfeito teria apenas valores na **diagonal principal** (acertos):"
   ]
  },
  {
   "cell_type": "code",
   "execution_count": 19,
   "id": "b8774274",
   "metadata": {},
   "outputs": [
    {
     "data": {
      "text/plain": [
       "array([[54579,     0],\n",
       "       [    0,  5421]])"
      ]
     },
     "execution_count": 19,
     "metadata": {},
     "output_type": "execute_result"
    }
   ],
   "source": [
    "y_train_perfect_predictions = y_train_5  # simulação de perfeição\n",
    "confusion_matrix(y_train_5, y_train_perfect_predictions)"
   ]
  },
  {
   "cell_type": "markdown",
   "id": "99d0f10f",
   "metadata": {},
   "source": [
    "## Métricas derivadas da matriz\n",
    "\n",
    "Embora a matriz de confusão seja rica em informações, muitas vezes queremos **métricas mais resumidas**.\n",
    "Duas das mais importantes são **Precisão** e **Recall**.\n",
    "\n",
    "### Precisão (Precision)\n",
    "\n",
    "Indica a proporção de previsões positivas que realmente eram positivas:\n",
    "\n",
    "$$\n",
    "\\text{Precisão} = \\frac{TP}{TP + FP}\n",
    "$$\n",
    "\n",
    "* **TP (True Positives)** → positivos previstos corretamente.\n",
    "* **FP (False Positives)** → negativos previstos incorretamente como positivos.\n",
    "\n",
    "---\n",
    "\n",
    "### Recall (Sensibilidade ou TPR)\n",
    "\n",
    "O **Recall** mede a capacidade do modelo de encontrar todos os positivos:\n",
    "\n",
    "$$\n",
    "\\text{Recall} = \\frac{TP}{TP + FN}\n",
    "$$\n",
    "\n",
    "* **FN (False Negatives)** → positivos previstos incorretamente como negativos.\n",
    "* Também chamado de **taxa de verdadeiros positivos (True Positive Rate)**.\n",
    "\n",
    "\n"
   ]
  },
  {
   "cell_type": "markdown",
   "id": "3c030509",
   "metadata": {},
   "source": [
    "![conf](m_conf.png)"
   ]
  },
  {
   "cell_type": "markdown",
   "id": "7be9c3a9",
   "metadata": {},
   "source": [
    "## Precisão e Recall\n",
    "\n",
    "O Scikit-Learn facilita o cálculo de métricas de classificação, como **precisão** e **recall**:"
   ]
  },
  {
   "cell_type": "code",
   "execution_count": 20,
   "id": "0e836c3d",
   "metadata": {},
   "outputs": [
    {
     "data": {
      "text/plain": [
       "0.8370879772350012"
      ]
     },
     "execution_count": 20,
     "metadata": {},
     "output_type": "execute_result"
    }
   ],
   "source": [
    "from sklearn.metrics import precision_score, recall_score\n",
    "\n",
    "precision_score(y_train_5, y_train_pred)  "
   ]
  },
  {
   "cell_type": "code",
   "execution_count": 21,
   "id": "66dde066",
   "metadata": {},
   "outputs": [
    {
     "data": {
      "text/plain": [
       "0.6511713705958311"
      ]
     },
     "execution_count": 21,
     "metadata": {},
     "output_type": "execute_result"
    }
   ],
   "source": [
    "recall_score(y_train_5, y_train_pred) "
   ]
  },
  {
   "cell_type": "markdown",
   "id": "dca33126",
   "metadata": {},
   "source": [
    "* **Precisão (Precision)** → quando o classificador diz que é um 5, ele acerta **83,7% das vezes**.\n",
    "* **Recall (Sensibilidade)** → o classificador só consegue detectar **65,1% dos 5s reais**.\n",
    "\n",
    "👉 Isso mostra que a alta acurácia (\\~95%) que vimos antes era enganosa. Quando olhamos para **precisão** e **recall**, percebemos que o desempenho real é bem mais modesto.\n",
    "\n",
    "---\n",
    "\n",
    "## Combinando Precisão e Recall: F1-Score\n",
    "\n",
    "O **F1-Score** é a **média harmônica** entre precisão e recall:\n",
    "\n",
    "$$\n",
    "F1 = 2 \\times \\frac{\\text{Precisão} \\times \\text{Recall}}{\\text{Precisão} + \\text{Recall}}\n",
    "$$\n",
    "\n",
    "* Diferente da média aritmética, a média harmônica **puxa o valor para baixo** se um dos dois for muito baixo.\n",
    "* Assim, só teremos um F1 alto se **tanto precisão quanto recall forem bons**.\n",
    "\n",
    "Exemplo no Scikit-Learn:"
   ]
  },
  {
   "cell_type": "code",
   "execution_count": 22,
   "id": "b4f0a309",
   "metadata": {},
   "outputs": [
    {
     "data": {
      "text/plain": [
       "0.7325171197343847"
      ]
     },
     "execution_count": 22,
     "metadata": {},
     "output_type": "execute_result"
    }
   ],
   "source": [
    "from sklearn.metrics import f1_score\n",
    "\n",
    "f1_score(y_train_5, y_train_pred)"
   ]
  },
  {
   "cell_type": "markdown",
   "id": "8b266b13",
   "metadata": {},
   "source": [
    "## Interpretação\n",
    "\n",
    "* O F1 privilegia classificadores com **equilíbrio** entre precisão e recall.\n",
    "* Mas **nem sempre isso é o que queremos**:\n",
    "\n",
    "  * **Quando priorizar precisão:**\n",
    "    Ex.: filtro de vídeos seguros para crianças → melhor rejeitar vídeos bons (baixo recall) do que deixar passar um vídeo impróprio.\n",
    "  * **Quando priorizar recall:**\n",
    "    Ex.: detectar furtos em câmeras de segurança → melhor receber falsos alertas (baixa precisão) do que deixar passar furtos reais.\n",
    "\n",
    "Esse dilema é chamado de **trade-off precisão/recall**:\n",
    "\n",
    "* Aumentar a **precisão** → geralmente reduz o **recall**.\n",
    "* Aumentar o **recall** → geralmente reduz a **precisão**."
   ]
  },
  {
   "cell_type": "markdown",
   "id": "25029d9c",
   "metadata": {},
   "source": [
    "## O Trade-off Precisão/Recall\n",
    "\n",
    "O **SGDClassifier** (e muitos outros classificadores lineares) toma suas decisões com base em uma **função de decisão**:  \n",
    "- Cada instância recebe um **score**.  \n",
    "- Esse score é comparado com um **limiar (threshold)**.  \n",
    "  - Se o score for **maior que o limiar** → classe **positiva** (5).  \n",
    "  - Caso contrário → classe **negativa** (não-5).\n",
    "\n",
    "\n",
    "### Como o limiar afeta o desempenho?\n",
    "\n",
    "Imagine várias imagens ordenadas da menor para a maior pontuação:\n",
    "\n",
    "- **Threshold no meio** (exemplo do livro):  \n",
    "  - 4 imagens de 5 corretamente identificadas (**True Positives**).  \n",
    "  - 1 imagem de 6 confundida com 5 (**False Positive**).  \n",
    "  - **Precisão** = 4 / (4 + 1) = 80%.  \n",
    "  - Mas, de 6 dígitos \"5\" no total, só 4 foram detectados → **Recall** = 4 / 6 = 67%.  \n",
    "\n",
    "- **Threshold mais alto** (mais restritivo):  \n",
    "  - O \"6\" deixa de ser confundido → **False Positive** vira **True Negative**.  \n",
    "  - A **Precisão** sobe para 100%.  \n",
    "  - Mas um dos \"5\" deixa de ser detectado → **Recall** cai para 50%.  \n",
    "\n",
    "- **Threshold mais baixo** (mais permissivo):  \n",
    "  - O modelo captura mais \"5s\" reais → **Recall aumenta**.  \n",
    "  - Mas também passa a classificar incorretamente mais não-5s como \"5\" → **Precisão diminui**.  \n",
    "\n",
    "\n",
    "### Conclusão\n",
    "\n",
    "- Ajustar o **limiar de decisão** permite controlar o equilíbrio entre **Precisão** e **Recall**.  \n",
    "- Não é possível maximizar ambos ao mesmo tempo.  \n",
    "- Escolher o melhor ponto depende da **aplicação prática**:  \n",
    "  - **Mais precisão** → quando erros positivos são muito caros (ex.: vídeos seguros para crianças).  \n",
    "  - **Mais recall** → quando perder positivos é inaceitável (ex.: diagnósticos médicos, segurança).  "
   ]
  },
  {
   "cell_type": "markdown",
   "id": "8e5ebd0e",
   "metadata": {},
   "source": [
    "![pr](pr.png)"
   ]
  },
  {
   "cell_type": "markdown",
   "id": "722ebfb5",
   "metadata": {},
   "source": [
    "## Ajustando o limiar manualmente com `decision_function`\n",
    "\n",
    "O Scikit-Learn não permite **definir diretamente** o limiar usado pelo classificador.  \n",
    "Por padrão, o **`SGDClassifier`** utiliza **threshold = 0**.  \n",
    "\n",
    "No entanto, podemos acessar os **scores de decisão** usando o método `decision_function()` e, a partir deles, aplicar qualquer limiar que quisermos."
   ]
  },
  {
   "cell_type": "markdown",
   "id": "dd3f81f5",
   "metadata": {},
   "source": [
    "### Exemplo com uma única instância"
   ]
  },
  {
   "cell_type": "code",
   "execution_count": 23,
   "id": "b9d641eb",
   "metadata": {},
   "outputs": [
    {
     "data": {
      "text/plain": [
       "array([2164.22030239])"
      ]
     },
     "execution_count": 23,
     "metadata": {},
     "output_type": "execute_result"
    }
   ],
   "source": [
    "y_scores = sgd_clf.decision_function([some_digit])\n",
    "y_scores"
   ]
  }
 ],
 "metadata": {
  "kernelspec": {
   "display_name": ".venv (3.10.11)",
   "language": "python",
   "name": "python3"
  },
  "language_info": {
   "codemirror_mode": {
    "name": "ipython",
    "version": 3
   },
   "file_extension": ".py",
   "mimetype": "text/x-python",
   "name": "python",
   "nbconvert_exporter": "python",
   "pygments_lexer": "ipython3",
   "version": "3.10.11"
  }
 },
 "nbformat": 4,
 "nbformat_minor": 5
}
